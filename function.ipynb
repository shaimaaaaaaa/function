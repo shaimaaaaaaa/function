import numpy as np
import matplotlib.pyplot as plt

def MyfunctionSine(a,p):
  x=np.linspace(1,100,100)
  y=a*np.sin(p+x)
  plt.plot(x,y)
  print("Hello from a function")

import numpy as np
import matplotlib.pyplot as plt

def PlotLetter(c):
   plt.text(0.6, 0.7, c, size=50, rotation=30.,
         ha="center", va="center",
         bbox=dict(boxstyle="round",
                   ec=(1., 0.5, 0.5),
                   fc=(1., 0.8, 0.8),
                   )
         )


print("Option 1")
print("Option 2")
print("Option 3")
c=input("Type the option")
print(c)
if c=="1":
  print("You selected 1")
  MyfunctionSine(100,1)
if c=="2":
  print("You selected 2")
  PlotLetter("test MODULE 3")
if c=="3":
  print("You selected 3")
  print("Exit")
    



